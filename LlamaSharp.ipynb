{
 "cells": [
  {
   "cell_type": "markdown",
   "metadata": {},
   "source": [
    "# Llama 2 with LlamaSharp\n",
    "\n",
    "- [LlamaSharp](https://github.com/SciSharp/LLamaSharp)\n",
    "- [llama.cpp](https://github.com/ggerganov/llama.cpp)\n",
    "- Quantized Model: [TheBloke/llama-2-7B-Guanaco-QLoRA-GGML](https://huggingface.co/TheBloke/llama-2-7B-Guanaco-QLoRA-GGML)"
   ]
  },
  {
   "cell_type": "code",
   "execution_count": 1,
   "metadata": {
    "dotnet_interactive": {
     "language": "csharp"
    },
    "polyglot_notebook": {
     "kernelName": "csharp"
    }
   },
   "outputs": [
    {
     "data": {
      "text/html": [
       "<div><div></div><div></div><div><strong>Installed Packages</strong><ul><li><span>LLamaSharp, 0.4.2-preview</span></li><li><span>LLamaSharp.Backend.Cpu, 0.4.2-preview</span></li></ul></div></div>"
      ]
     },
     "metadata": {},
     "output_type": "display_data"
    }
   ],
   "source": [
    "#r \"nuget: LLamaSharp, 0.4.2-preview\"\n",
    "#r \"nuget: LLamaSharp.Backend.Cpu, 0.4.2-preview\"\n",
    "using LLama.Common;\n",
    "using LLama;"
   ]
  },
  {
   "cell_type": "markdown",
   "metadata": {},
   "source": [
    "### 1. Loading the Model"
   ]
  },
  {
   "cell_type": "code",
   "execution_count": 2,
   "metadata": {
    "dotnet_interactive": {
     "language": "csharp"
    },
    "polyglot_notebook": {
     "kernelName": "csharp"
    }
   },
   "outputs": [],
   "source": [
    "string modelPath = \"llama-2-7b-guanaco-qlora.ggmlv3.q4_0.bin\";\n",
    "LLamaModel model = new(new ModelParams(modelPath, contextSize: 1024, seed: 1337));"
   ]
  },
  {
   "cell_type": "markdown",
   "metadata": {},
   "source": [
    "### 2. Setting up a Session"
   ]
  },
  {
   "cell_type": "code",
   "execution_count": 3,
   "metadata": {
    "dotnet_interactive": {
     "language": "csharp"
    },
    "polyglot_notebook": {
     "kernelName": "csharp"
    }
   },
   "outputs": [],
   "source": [
    "InteractiveExecutor ex = new(model);\n",
    "ChatSession session = new(ex);"
   ]
  },
  {
   "cell_type": "markdown",
   "metadata": {},
   "source": [
    "### 3. Inferences Parameters\n",
    "- **Temperature**: Bigger = more creativity aka random, Smaller = more deterministic \n",
    "- **AntiPromtps**: Stop generating at those prompts"
   ]
  },
  {
   "cell_type": "code",
   "execution_count": 4,
   "metadata": {
    "dotnet_interactive": {
     "language": "csharp"
    },
    "polyglot_notebook": {
     "kernelName": "csharp"
    }
   },
   "outputs": [],
   "source": [
    "InferenceParams inferenceParams = new InferenceParams() {\n",
    "     Temperature = 0f, \n",
    "     AntiPrompts = new List<string> { \"User:\" } \n",
    "};"
   ]
  },
  {
   "cell_type": "markdown",
   "metadata": {},
   "source": [
    "### 4. Create & process your system prompt "
   ]
  },
  {
   "cell_type": "code",
   "execution_count": 5,
   "metadata": {
    "dotnet_interactive": {
     "language": "csharp"
    },
    "polyglot_notebook": {
     "kernelName": "csharp"
    }
   },
   "outputs": [
    {
     "data": {
      "text/html": [
       "<div class=\"dni-plaintext\"><pre>[  ]</pre></div><style>\r\n",
       ".dni-code-hint {\r\n",
       "    font-style: italic;\r\n",
       "    overflow: hidden;\r\n",
       "    white-space: nowrap;\r\n",
       "}\r\n",
       ".dni-treeview {\r\n",
       "    white-space: nowrap;\r\n",
       "}\r\n",
       ".dni-treeview td {\r\n",
       "    vertical-align: top;\r\n",
       "    text-align: start;\r\n",
       "}\r\n",
       "details.dni-treeview {\r\n",
       "    padding-left: 1em;\r\n",
       "}\r\n",
       "table td {\r\n",
       "    text-align: start;\r\n",
       "}\r\n",
       "table tr { \r\n",
       "    vertical-align: top; \r\n",
       "    margin: 0em 0px;\r\n",
       "}\r\n",
       "table tr td pre \r\n",
       "{ \r\n",
       "    vertical-align: top !important; \r\n",
       "    margin: 0em 0px !important;\r\n",
       "} \r\n",
       "table th {\r\n",
       "    text-align: start;\r\n",
       "}\r\n",
       "</style>"
      ]
     },
     "metadata": {},
     "output_type": "display_data"
    }
   ],
   "source": [
    "string initialPrompt = \"\"\"\n",
    "Transcript of a dialog, where the User interacts with an Assistant named DotNetBot. DotNetBot is helpful, \n",
    "kind, honest, good at writing, and never fails to answer the User's requests immediately, \n",
    "with short (max 10 words) and precise answers.\n",
    "User: Hello, DotNetBot.\n",
    "DotNetBot: Hello. How may I help you today?\n",
    "User: Please tell me your favorite programming language.\n",
    "DotNetBot: Sure. My favorite programming language is C#.\n",
    "User:\n",
    "\"\"\";\n",
    "session.Chat(initialPrompt, inferenceParams).ToArray()"
   ]
  },
  {
   "cell_type": "markdown",
   "metadata": {},
   "source": [
    "### 5. Stream Results"
   ]
  },
  {
   "cell_type": "code",
   "execution_count": 6,
   "metadata": {
    "dotnet_interactive": {
     "language": "csharp"
    },
    "polyglot_notebook": {
     "kernelName": "csharp"
    }
   },
   "outputs": [],
   "source": [
    "public void ChatWithBot(string nextMessage){\n",
    "    foreach(var response in session.Chat(nextMessage, inferenceParams))\n",
    "    {\n",
    "        Console.Write(response);\n",
    "    }\n",
    "}"
   ]
  },
  {
   "cell_type": "markdown",
   "metadata": {},
   "source": [
    "### Chat"
   ]
  },
  {
   "cell_type": "code",
   "execution_count": 7,
   "metadata": {
    "dotnet_interactive": {
     "language": "csharp"
    },
    "polyglot_notebook": {
     "kernelName": "csharp"
    }
   },
   "outputs": [
    {
     "name": "stdout",
     "output_type": "stream",
     "text": [
      "DotNetBot: 1) NUnit\n",
      "2) xUnit\n",
      "3) MSTest\n",
      "User:"
     ]
    }
   ],
   "source": [
    "ChatWithBot(\"What are the top 3 unit testing framework for C#? Answer only with names.\")"
   ]
  },
  {
   "cell_type": "code",
   "execution_count": 8,
   "metadata": {
    "dotnet_interactive": {
     "language": "csharp"
    },
    "polyglot_notebook": {
     "kernelName": "csharp"
    }
   },
   "outputs": [
    {
     "name": "stdout",
     "output_type": "stream",
     "text": [
      "DotNetBot: Yes, NUnit is an open-source unit testing framework for .NET Core and .NET Framework applications. It provides a powerful and flexible way to test code written in C# and other .NET languages.\n",
      "User:"
     ]
    }
   ],
   "source": [
    "ChatWithBot(\"Is the first one open source?\")"
   ]
  },
  {
   "cell_type": "code",
   "execution_count": 9,
   "metadata": {
    "dotnet_interactive": {
     "language": "csharp"
    },
    "polyglot_notebook": {
     "kernelName": "csharp"
    }
   },
   "outputs": [
    {
     "name": "stdout",
     "output_type": "stream",
     "text": [
      "DotNetBot: You could ask your audience if they have any questions or comments, or if there is anything else you can help them with.\n",
      "User:"
     ]
    }
   ],
   "source": [
    "ChatWithBot(\"What should I do at the end of my presentation? Short answer.\")"
   ]
  },
  {
   "cell_type": "code",
   "execution_count": null,
   "metadata": {
    "dotnet_interactive": {
     "language": "csharp"
    },
    "polyglot_notebook": {
     "kernelName": "csharp"
    }
   },
   "outputs": [],
   "source": []
  }
 ],
 "metadata": {
  "kernelspec": {
   "display_name": ".NET (C#)",
   "language": "C#",
   "name": ".net-csharp"
  },
  "language_info": {
   "name": "polyglot-notebook"
  },
  "orig_nbformat": 4,
  "polyglot_notebook": {
   "kernelInfo": {
    "defaultKernelName": "csharp",
    "items": [
     {
      "aliases": [],
      "name": "csharp"
     }
    ]
   }
  }
 },
 "nbformat": 4,
 "nbformat_minor": 2
}
